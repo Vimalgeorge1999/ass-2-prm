{
 "cells": [
  {
   "cell_type": "code",
   "execution_count": 10,
   "id": "4c2ed77a",
   "metadata": {},
   "outputs": [
    {
     "name": "stdout",
     "output_type": "stream",
     "text": [
      "enter side a: 3\n",
      "enter side b: 4\n",
      "enter side c: 5\n",
      "The triangle is a valid one\n",
      "enter side a: 2\n",
      "enter side b: 4\n",
      "enter side c: 2\n",
      "enter side d: 4\n",
      "the rectangle is valid\n"
     ]
    }
   ],
   "source": [
    "class validation:\n",
    "    def triangle_val(self):\n",
    "        self.a=int(input(\"enter side a: \"))\n",
    "        self.b=int(input(\"enter side b: \"))\n",
    "        self.c=int(input(\"enter side c: \"))\n",
    "        if self.a+self.b>=self.c and self.b+self.c>=self.a and self.a+self.c>=self.b:\n",
    "            return \"The triangle is a valid one\"\n",
    "        else:\n",
    "            return \"the traingle is invalid\"\n",
    "    def rectangle_val(self):\n",
    "        self.a=int(input(\"enter side a: \"))\n",
    "        self.b=int(input(\"enter side b: \"))\n",
    "        self.c=int(input(\"enter side c: \"))\n",
    "        self.d=int(input(\"enter side d: \"))\n",
    "        if self.a==self.c and self.b==self.d:\n",
    "            return \"the rectangle is valid\"\n",
    "        else:\n",
    "            return \"the rectangle is invalid\"\n",
    "x=validation()\n",
    "print(x.triangle_val())\n",
    "print(x.rectangle_val())\n",
    "                   \n",
    "        \n",
    "        \n",
    "                   \n",
    "        "
   ]
  }
 ],
 "metadata": {
  "kernelspec": {
   "display_name": "Python 3 (ipykernel)",
   "language": "python",
   "name": "python3"
  },
  "language_info": {
   "codemirror_mode": {
    "name": "ipython",
    "version": 3
   },
   "file_extension": ".py",
   "mimetype": "text/x-python",
   "name": "python",
   "nbconvert_exporter": "python",
   "pygments_lexer": "ipython3",
   "version": "3.9.13"
  }
 },
 "nbformat": 4,
 "nbformat_minor": 5
}
